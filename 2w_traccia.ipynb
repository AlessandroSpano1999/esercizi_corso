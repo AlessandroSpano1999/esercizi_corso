{
 "cells": [
  {
   "cell_type": "markdown",
   "metadata": {
    "toc": true
   },
   "source": [
    "<h1>Table of Contents<span class=\"tocSkip\"></span></h1>\n",
    "<div class=\"toc\"><ul class=\"toc-item\"><li><span><a href=\"#1°-Bootcamp---La-libreria\" data-toc-modified-id=\"1°-Bootcamp---La-libreria-1\"><span class=\"toc-item-num\">1&nbsp;&nbsp;</span>1° Bootcamp - La libreria</a></span></li></ul></div>"
   ]
  },
  {
   "cell_type": "markdown",
   "metadata": {},
   "source": [
    "# 2 Worskhop - traccia"
   ]
  },
  {
   "cell_type": "markdown",
   "metadata": {},
   "source": [
    "        1. Scrivi una funzione che implementi la distanza euclidea tra tre coordinate. \n",
    "        Una volta implementata,  invocala con il seguente esempio di punti:\n",
    "\n",
    "            punto1 = (1, 2, 3)\n",
    "\n",
    "            punto2 = (4, 5, 6)\n",
    "    \n",
    "    \n",
    "        2. Scrivi una funzione che implementi la distanza di Manhattan \n",
    "           (qui puoi trovare la formula https://it.frwiki.wiki/wiki/Distance_de_Manhattan) tra tre coordinate. \n",
    "           Una volta implementata, invocala con il seguente esempio di punti:\n",
    "\n",
    "            punto1 = (4, 7, 9)\n",
    "\n",
    "            punto2 = (2, 6, 8)\n",
    "            \n",
    "            Suggerimento: esiste una funzione nativa che calcola il modulo in Python e si chiama abs()\n",
    "\n",
    "\n"
   ]
  },
  {
   "cell_type": "code",
   "execution_count": null,
   "metadata": {},
   "outputs": [],
   "source": [
    "#d(A,B)=|XB-XA|+|YB-YA| distanza di Manhattan"
   ]
  },
  {
   "cell_type": "code",
   "execution_count": 12,
   "metadata": {},
   "outputs": [
    {
     "name": "stdout",
     "output_type": "stream",
     "text": [
      "La distanza Euclidea nello spazio di dx=9, di dy=9 e di dz=9.\n",
      "La distanza Euclidea tra i due punti è d(p1,p2)=5.196152422706632\n"
     ]
    }
   ],
   "source": [
    "import math\n",
    "p1=[1,2,3]\n",
    "p2=[4,5,6]\n",
    "#1)punto uno\n",
    "def dist3punti(p1,p2):\n",
    "    dx= pow(p2[0]-p1[0],2)\n",
    "    dy= pow(p2[1]-p1[1],2)\n",
    "    dz= pow(p2[2]-p1[2],2)\n",
    "    d=math.sqrt(dx+dy+dz)\n",
    "    print(\"La distanza Euclidea nello spazio di dx={}, di dy={} e di dz={}.\\nLa distanza Euclidea tra i due punti è d(p1,p2)={}\".format(dx,dy,dz,d))\n",
    "    \n",
    "    \n",
    "\n",
    "dist3punti(p1,p2)"
   ]
  },
  {
   "cell_type": "code",
   "execution_count": 16,
   "metadata": {},
   "outputs": [
    {
     "name": "stdout",
     "output_type": "stream",
     "text": [
      "La distanza di Manhattan tra cordinate è  dx1=2, dy1=1 e dz1=1.\n",
      "La distanza di Manhattan tra punti è d(P1,P2)=4\n"
     ]
    }
   ],
   "source": [
    "P1=[4,7,9]\n",
    "P2=[2,6,8]\n",
    "def Manhattan(P1,P2):\n",
    "    dx1=abs(P2[0]-P1[0])\n",
    "    dy1=abs(P2[1]-P1[1])\n",
    "    dz1=abs(P2[2]-P1[2])\n",
    "    dManhattan= dx1+dy1+dz1\n",
    "    print(\"La distanza di Manhattan tra cordinate è  dx1={}, dy1={} e dz1={}.\\nLa distanza di Manhattan tra punti è d(P1,P2)={}\".format(dx1,dy1,dz1,dManhattan))\n",
    "Manhattan(P1,P2)"
   ]
  }
 ],
 "metadata": {
  "kernelspec": {
   "display_name": "Python 3 (ipykernel)",
   "language": "python",
   "name": "python3"
  },
  "language_info": {
   "codemirror_mode": {
    "name": "ipython",
    "version": 3
   },
   "file_extension": ".py",
   "mimetype": "text/x-python",
   "name": "python",
   "nbconvert_exporter": "python",
   "pygments_lexer": "ipython3",
   "version": "3.10.9"
  },
  "toc": {
   "base_numbering": 1,
   "nav_menu": {},
   "number_sections": true,
   "sideBar": true,
   "skip_h1_title": false,
   "title_cell": "Table of Contents",
   "title_sidebar": "Contents",
   "toc_cell": true,
   "toc_position": {
    "height": "calc(100% - 180px)",
    "left": "10px",
    "top": "150px",
    "width": "165px"
   },
   "toc_section_display": true,
   "toc_window_display": true
  }
 },
 "nbformat": 4,
 "nbformat_minor": 4
}
