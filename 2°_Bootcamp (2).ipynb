{
 "cells": [
  {
   "cell_type": "markdown",
   "id": "ab04b1b7",
   "metadata": {},
   "source": [
    "## 2° Bootcamp - Simulazione Gioco\n",
    "\n",
    "\n",
    "Scrivi un programma in Python che simuli un gioco in cui il personaggio si muove su una griglia 5x5 alla ricerca di oggetti. \n",
    "\n",
    "- La griglia è rappresentata da una matrice di zeri inizialmente vuota. \n",
    "\n",
    "- Gli oggetti sono posizionati in tre celle della griglia scelte casualmente. \n",
    "\n",
    "- Il programma deve chiedere all'utente di muovere il personaggio tramite i tasti w (sopra), a (sinistra), s (sotto) e d (destra). \n",
    "\n",
    "- Se il personaggio si muove in una cella contenente un oggetto, l'oggetto viene raccolto e il carattere nella griglia viene sostituito da un 1. \n",
    "\n",
    "- Il programma deve terminare quando tutti gli oggetti sono stati raccolti.\n",
    "\n",
    "\n",
    "*Suggerimento 1*: Il personaggio parte inizialmente dalla posizione (0, 0), ovvero l'angolo in alto a sinistra della griglia, quindi in termini di array parte dal primo elemento che ha quindi indice riga 0 e colonna 0\n",
    "\n",
    "*Suggerimento 2*: Per capire come si muove il personaggio nella griglia, stampati la posizione corrente ogni volta che si muove\n",
    "\n",
    "*Suggerimento 3*: Se l'oggetto si trova in posizione (2,1), una possibile combinazione da tastiera per trovare l'oggetto è s-s-d (se il personaggio parte da (0,0) )\n",
    "\n",
    "Buon lavoro!"
   ]
  },
  {
   "cell_type": "markdown",
   "id": "9e184760",
   "metadata": {},
   "source": [
    "## Soluzione"
   ]
  },
  {
   "cell_type": "code",
   "execution_count": 1,
   "id": "10855bf7",
   "metadata": {},
   "outputs": [
    {
     "data": {
      "text/plain": [
       "set()"
      ]
     },
     "execution_count": 1,
     "metadata": {},
     "output_type": "execute_result"
    }
   ],
   "source": [
    "objects = []  # posizione degli oggetti\n",
    "\n",
    "pos = (1, 0)  # posizione iniziale del personaggio\n",
    "\n",
    "x = set(objects) - set([pos])\n",
    "\n",
    "x"
   ]
  },
  {
   "cell_type": "code",
   "execution_count": 2,
   "id": "e1a21315",
   "metadata": {},
   "outputs": [
    {
     "name": "stdout",
     "output_type": "stream",
     "text": [
      "0\n",
      "5\n",
      "(0, 5)\n"
     ]
    }
   ],
   "source": [
    "pos = (0, 5)\n",
    "print(pos[0])\n",
    "print(pos[1])\n",
    "print((max(pos[0]-1,0),pos[1])) #Upp"
   ]
  },
  {
   "cell_type": "code",
   "execution_count": null,
   "id": "f1a45156",
   "metadata": {},
   "outputs": [
    {
     "name": "stdout",
     "output_type": "stream",
     "text": [
      "Posizione oggetto: (1, 0)\n",
      "Posizione oggetto: (3, 4)\n",
      "Posizione oggetto: (4, 2)\n",
      "Muovi il personaggio nelle seguenti direzioni (u/l/d/r): r\n",
      "(4, 2)\n",
      "Nuova posizione: (0, 1)\n"
     ]
    }
   ],
   "source": [
    "import numpy as np\n",
    "\n",
    "grid = np.zeros((5, 5))  # griglia 5x5 inizialmente vuota\n",
    "objects = [(1, 0), (3, 4), (4, 2)]  # posizione degli oggetti\n",
    "\n",
    "pos = (0, 0)  # posizione iniziale del personaggio\n",
    "\n",
    "for obj in objects:\n",
    "    print(f\"Posizione oggetto: {obj}\")\n",
    "\n",
    "    # set(objects)-set([pos])\n",
    "while len(objects)>0:  # finché non ha raccolto tutti gli oggetti\n",
    "    move = input(\"Muovi il personaggio nelle seguenti direzioni (u/l/d/r): \")\n",
    "    if move in [\"u\", \"l\", \"d\", \"r\"]:\n",
    "        if move == \"u\":\n",
    "            pos = (max(pos[0]-1, 0), pos[1])\n",
    "        elif move == \"l\":\n",
    "            pos = (pos[0], max(pos[1]-1, 0))\n",
    "        elif move == \"d\":\n",
    "            pos = (min(pos[0]+1, 4), pos[1])\n",
    "        else:\n",
    "            pos = (pos[0], min(pos[1]+1, 4))\n",
    "        print(f\"Nuova posizione: {pos}\")\n",
    "        if pos in objects:\n",
    "            print(\"Hai raccolto un oggetto!\")\n",
    "            objects.remove(pos)\n",
    "    else:\n",
    "        print(\"Mossa non valida\")\n",
    "print(\"Complimenti, hai vinto!\")"
   ]
  },
  {
   "cell_type": "code",
   "execution_count": 5,
   "id": "819fb6bf",
   "metadata": {},
   "outputs": [
    {
     "data": {
      "text/plain": [
       "{(1, 0), (3, 4), (4, 2)}"
      ]
     },
     "execution_count": 5,
     "metadata": {},
     "output_type": "execute_result"
    }
   ],
   "source": [
    "obj = [(1, 0), (3, 4), (4, 2)]\n",
    "set(obj)"
   ]
  },
  {
   "cell_type": "code",
   "execution_count": 10,
   "id": "16de3e5e",
   "metadata": {},
   "outputs": [
    {
     "data": {
      "text/plain": [
       "{(0, 0)}"
      ]
     },
     "execution_count": 10,
     "metadata": {},
     "output_type": "execute_result"
    }
   ],
   "source": [
    "pos = (0,0)\n",
    "set([pos])"
   ]
  },
  {
   "cell_type": "code",
   "execution_count": null,
   "id": "dc0679d6",
   "metadata": {},
   "outputs": [],
   "source": [
    "# pos = (max(pos[0]-1, 0), pos[1]) pos[0]-1 sottrae 1 alla coordinata Y della posizione corrente del personaggio \n",
    "# (pos[0] rappresenta la coordinata Y). Questo significa che il personaggio si sta spostando verso l'alto nella griglia."
   ]
  }
 ],
 "metadata": {
  "kernelspec": {
   "display_name": "Python 3 (ipykernel)",
   "language": "python",
   "name": "python3"
  },
  "language_info": {
   "codemirror_mode": {
    "name": "ipython",
    "version": 3
   },
   "file_extension": ".py",
   "mimetype": "text/x-python",
   "name": "python",
   "nbconvert_exporter": "python",
   "pygments_lexer": "ipython3",
   "version": "3.10.9"
  }
 },
 "nbformat": 4,
 "nbformat_minor": 5
}
