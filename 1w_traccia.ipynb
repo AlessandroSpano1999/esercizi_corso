{
 "cells": [
  {
   "cell_type": "markdown",
   "metadata": {
    "toc": true
   },
   "source": [
    "<h1>Table of Contents<span class=\"tocSkip\"></span></h1>\n",
    "<div class=\"toc\"><ul class=\"toc-item\"><li><span><a href=\"#Workshop-1\" data-toc-modified-id=\"Workshop-1-1\"><span class=\"toc-item-num\">1&nbsp;&nbsp;</span>Workshop 1</a></span><ul class=\"toc-item\"><li><span><a href=\"#Variabili\" data-toc-modified-id=\"Variabili-1.1\"><span class=\"toc-item-num\">1.1&nbsp;&nbsp;</span>Variabili</a></span></li><li><span><a href=\"#Funzioni\" data-toc-modified-id=\"Funzioni-1.2\"><span class=\"toc-item-num\">1.2&nbsp;&nbsp;</span>Funzioni</a></span></li></ul></li></ul></div>"
   ]
  },
  {
   "cell_type": "markdown",
   "metadata": {},
   "source": [
    " # Workshop 1 \n",
    " \n",
    " ## Variabili"
   ]
  },
  {
   "cell_type": "markdown",
   "metadata": {},
   "source": [
    "---\n",
    "- Dichiarare due variabili numeriche\n",
    "- Eseguire un'operazione qualsiasi che le coinvolga\n",
    "- Salvare il risultato in un terza variabile\n",
    "- Stampare il risultato nella forma *Il risultato dell'operazione ... tra ... e ... è ...*\n",
    "- Commentare le righe del codice con il significato delle azioni corrispondenti\n",
    "- Utilizza il comando *%whos* per vedere tutti valori delle variabili che hai creato\n",
    "- Stampa la stringa *'Ho creato il mio primo programma'*"
   ]
  },
  {
   "cell_type": "code",
   "execution_count": 1,
   "metadata": {},
   "outputs": [
    {
     "name": "stdout",
     "output_type": "stream",
     "text": [
      "Il risultato dell'operazione somma tra 3,4.5 è 7.5\n"
     ]
    }
   ],
   "source": [
    "x1=3 #dichiaro la prima variabile e le assegno il valore\n",
    "x2=4.5 #dichiaro la seconda variabile e le assegno il valore\n",
    "sum= x1+x2 #dichiaro la terza variabile e le assegno il valore\n",
    "print(\"Il risultato dell'operazione somma tra {},{} è {}\".format(x1,x2,sum))\n"
   ]
  },
  {
   "cell_type": "code",
   "execution_count": 2,
   "metadata": {},
   "outputs": [
    {
     "name": "stdout",
     "output_type": "stream",
     "text": [
      "Variable   Type     Data/Info\n",
      "-----------------------------\n",
      "sum        float    7.5\n",
      "x1         int      3\n",
      "x2         float    4.5\n"
     ]
    }
   ],
   "source": [
    "%whos\n"
   ]
  },
  {
   "cell_type": "code",
   "execution_count": 3,
   "metadata": {},
   "outputs": [
    {
     "name": "stdout",
     "output_type": "stream",
     "text": [
      "Ho creato il mio primo programma\n"
     ]
    }
   ],
   "source": [
    "print (\"Ho creato il mio primo programma\")"
   ]
  },
  {
   "cell_type": "markdown",
   "metadata": {},
   "source": [
    "## Funzioni"
   ]
  },
  {
   "cell_type": "markdown",
   "metadata": {},
   "source": [
    "---\n",
    "- Crea una funzione che esegua l'addizione tra due numeri interi che gli vengono passati come parametri e che abbia come valore\n",
    "  di ritorno la somma dei due numeri\n",
    "- Invoca la funzione creata con valori a tuo piacimento e assegna il valore restituito ad una terza variabile\n",
    "- Crea una funzione che concateni due stringhe passate come parametro e che stampi la stringa finale in caratteri maiuscoli\n",
    "- Invoca la funzione creata con stringhe a tuo piacimento\n",
    "- Crea una funzione che raddoppi il primo parametro e che triplichi il secondo parametro e che stampi i due valori di ritorno\n",
    "   in questo formato : *il doppio di .. è ..., mentre il triplo di ... è ...*\n",
    "- Invoca la funzione creata con valori a tuo piacimento"
   ]
  },
  {
   "cell_type": "code",
   "execution_count": 4,
   "metadata": {},
   "outputs": [
    {
     "name": "stdout",
     "output_type": "stream",
     "text": [
      "5\n"
     ]
    }
   ],
   "source": [
    "def somma(x,y): #definiamo la funzione somma\n",
    "    z=x+y\n",
    "    return z\n",
    "variabile=somma(3,2) #definiamo la variabile 'variabile' e le assegnamo il valore ddella somma 3 e 2\n",
    "print(variabile) #stampiamo variabile"
   ]
  },
  {
   "cell_type": "code",
   "execution_count": 5,
   "metadata": {},
   "outputs": [],
   "source": [
    "def conc_stringhe(str1,str2):\n",
    "    str3=str1 + str2\n",
    "    print(str3.upper())"
   ]
  },
  {
   "cell_type": "code",
   "execution_count": 6,
   "metadata": {},
   "outputs": [
    {
     "name": "stdout",
     "output_type": "stream",
     "text": [
      "CIAO ALÌ COME STAI?\n"
     ]
    }
   ],
   "source": [
    "conc_stringhe(\"Ciao Alì \", \"come stai?\")"
   ]
  },
  {
   "cell_type": "code",
   "execution_count": 7,
   "metadata": {},
   "outputs": [
    {
     "name": "stdout",
     "output_type": "stream",
     "text": [
      "6\n"
     ]
    }
   ],
   "source": [
    "a = 3\n",
    "a*=2\n",
    "print(a)"
   ]
  },
  {
   "cell_type": "code",
   "execution_count": 8,
   "metadata": {},
   "outputs": [],
   "source": [
    "\n",
    "def ultimafunzione(a,b):\n",
    "    #c=a*2\n",
    "    #d=b*3\n",
    "    print(\"Il doppio di {} è {}, mentre il triplo di {} è {}\".format(a,a*2, b,b*3))\n",
    "    return a, b\n",
    "    \n",
    "   \n",
    "    "
   ]
  },
  {
   "cell_type": "code",
   "execution_count": 9,
   "metadata": {},
   "outputs": [
    {
     "name": "stdout",
     "output_type": "stream",
     "text": [
      "Il doppio di 5 è 10, mentre il triplo di 7 è 21\n"
     ]
    },
    {
     "data": {
      "text/plain": [
       "(5, 7)"
      ]
     },
     "execution_count": 9,
     "metadata": {},
     "output_type": "execute_result"
    }
   ],
   "source": [
    "ultimafunzione(5,7)"
   ]
  }
 ],
 "metadata": {
  "kernelspec": {
   "display_name": "Python 3 (ipykernel)",
   "language": "python",
   "name": "python3"
  },
  "language_info": {
   "codemirror_mode": {
    "name": "ipython",
    "version": 3
   },
   "file_extension": ".py",
   "mimetype": "text/x-python",
   "name": "python",
   "nbconvert_exporter": "python",
   "pygments_lexer": "ipython3",
   "version": "3.10.9"
  },
  "toc": {
   "base_numbering": 1,
   "nav_menu": {},
   "number_sections": true,
   "sideBar": true,
   "skip_h1_title": false,
   "title_cell": "Table of Contents",
   "title_sidebar": "Contents",
   "toc_cell": true,
   "toc_position": {
    "height": "calc(100% - 180px)",
    "left": "10px",
    "top": "150px",
    "width": "165px"
   },
   "toc_section_display": true,
   "toc_window_display": true
  }
 },
 "nbformat": 4,
 "nbformat_minor": 4
}
