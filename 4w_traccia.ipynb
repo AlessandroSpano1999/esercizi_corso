{
 "cells": [
  {
   "cell_type": "markdown",
   "metadata": {
    "toc": true
   },
   "source": [
    "<h1>Table of Contents<span class=\"tocSkip\"></span></h1>\n",
    "<div class=\"toc\"><ul class=\"toc-item\"><li><span><a href=\"#Workshop-4\" data-toc-modified-id=\"Workshop-4-1\"><span class=\"toc-item-num\">1&nbsp;&nbsp;</span>Workshop 4</a></span><ul class=\"toc-item\"><li><span><a href=\"#ESERCIZIO-2\" data-toc-modified-id=\"ESERCIZIO-2-1.1\"><span class=\"toc-item-num\">1.1&nbsp;&nbsp;</span>ESERCIZIO 2</a></span></li><li><span><a href=\"#ESERCIZIO-3\" data-toc-modified-id=\"ESERCIZIO-3-1.2\"><span class=\"toc-item-num\">1.2&nbsp;&nbsp;</span>ESERCIZIO 3</a></span></li><li><span><a href=\"#ESERCIZIO-4\" data-toc-modified-id=\"ESERCIZIO-4-1.3\"><span class=\"toc-item-num\">1.3&nbsp;&nbsp;</span>ESERCIZIO 4</a></span></li><li><span><a href=\"#ESERCIZIO-5\" data-toc-modified-id=\"ESERCIZIO-5-1.4\"><span class=\"toc-item-num\">1.4&nbsp;&nbsp;</span>ESERCIZIO 5</a></span></li></ul></li></ul></div>"
   ]
  },
  {
   "cell_type": "markdown",
   "metadata": {},
   "source": [
    "# Workshop 4"
   ]
  },
  {
   "cell_type": "markdown",
   "metadata": {},
   "source": [
    "**Svolgi i seguenti esercizi in Python:**\n",
    "\n",
    "**1.** Crea una matrice 3x3 con valori compresi tra 0 e 8\n",
    "\n",
    "**2.** Crea un vettore random con 30 elementi e trova il valore medio\n",
    "\n",
    "**3.** Trova gli indici degli elementi diversi da zero del seguente array [3,5,0,4,0,8,0]\n",
    "\n",
    "**4.** Scrivi un programma per ottenere gli indici degli elementi ordinati di un dato array ,esempio :\n",
    "\n",
    "    array: [1023 5202 6230 1671 1682 5241 4532] indice degli elementi ordinati dell'array :[0 3 4 6 1 5 2]\n",
    "\n",
    "**5.** Scrivi un programma che calcola la media attraverso la dimensione, in un array 2D ,esempio :\n",
    "\n",
    "    array: [[10 30]\n",
    "\n",
    "    [20 60]]\n",
    "\n",
    "    media di ogni colonna: [15 45]\n",
    "\n",
    "    media di ogni riga: [20 40]\n"
   ]
  },
  {
   "cell_type": "code",
   "execution_count": 3,
   "metadata": {},
   "outputs": [],
   "source": [
    "import numpy as np\n",
    "import random as rnd\n",
    "from scipy import stats"
   ]
  },
  {
   "cell_type": "code",
   "execution_count": 64,
   "metadata": {},
   "outputs": [
    {
     "data": {
      "text/plain": [
       "array([[0, 1, 2],\n",
       "       [3, 4, 5],\n",
       "       [6, 7, 8]])"
      ]
     },
     "execution_count": 64,
     "metadata": {},
     "output_type": "execute_result"
    }
   ],
   "source": [
    "#Crea una matrice 3x3 con valori compresi tra 0 e 8\n",
    "matrice3x3=np.arange(0,9).reshape(3,3)\n",
    "matrice3x3"
   ]
  },
  {
   "cell_type": "code",
   "execution_count": 5,
   "metadata": {},
   "outputs": [
    {
     "data": {
      "text/plain": [
       "array([53, 33, 58, 96, 95,  1, 15, 83,  4, 25, 16, 72, 48, 53, 69, 27, 75,\n",
       "        6, 82, 30, 15, 31, 37, 85, 93, 81, 44, 35, 91, 35])"
      ]
     },
     "execution_count": 5,
     "metadata": {},
     "output_type": "execute_result"
    }
   ],
   "source": [
    "vettorerandom2=np.array([rnd.randint(0,100) for i in range(30)])\n",
    "vettorerandom2"
   ]
  },
  {
   "cell_type": "code",
   "execution_count": 65,
   "metadata": {},
   "outputs": [
    {
     "data": {
      "text/plain": [
       "array([97, 38, 56, 66, 83,  3, 87, 27, 10, 51, 56, 66, 47, 81, 19,  1, 53,\n",
       "       83, 16, 61, 12, 81, 93, 65, 49, 45,  7, 75, 32, 89])"
      ]
     },
     "execution_count": 65,
     "metadata": {},
     "output_type": "execute_result"
    }
   ],
   "source": [
    "#Crea un vettore random con 30 elementi e trova il valore medio\n",
    "vettorerandom=np.random.randint(0, high=100, size=30)\n",
    "vettorerandom"
   ]
  },
  {
   "cell_type": "code",
   "execution_count": 9,
   "metadata": {},
   "outputs": [
    {
     "data": {
      "text/plain": [
       "49.86666666666667"
      ]
     },
     "execution_count": 9,
     "metadata": {},
     "output_type": "execute_result"
    }
   ],
   "source": [
    "np.mean(vettorerandom)"
   ]
  },
  {
   "cell_type": "code",
   "execution_count": 66,
   "metadata": {},
   "outputs": [
    {
     "data": {
      "text/plain": [
       "[0, 1, 3, 5]"
      ]
     },
     "execution_count": 66,
     "metadata": {},
     "output_type": "execute_result"
    }
   ],
   "source": [
    "#Trova gli indici degli elementi diversi da zero del seguente array [3,5,0,4,0,8,0]\n",
    "array1= np.array([3,5,0,4,0,8,0])\n",
    "def trovadivdazero(array_):\n",
    "    listaindici=[i for i in range(len(array_)) if array_[i] != 0]\n",
    "    return listaindici\n",
    "\n",
    "trovadivdazero(array1)\n",
    "    \n"
   ]
  },
  {
   "cell_type": "code",
   "execution_count": 16,
   "metadata": {},
   "outputs": [
    {
     "data": {
      "text/plain": [
       "[(0, 3), (1, 5), (2, 0), (3, 4), (4, 0), (5, 8), (6, 0)]"
      ]
     },
     "execution_count": 16,
     "metadata": {},
     "output_type": "execute_result"
    }
   ],
   "source": [
    "list(enumerate(array1))"
   ]
  },
  {
   "cell_type": "code",
   "execution_count": 67,
   "metadata": {},
   "outputs": [
    {
     "data": {
      "text/plain": [
       "[0, 1, 3, 5]"
      ]
     },
     "execution_count": 67,
     "metadata": {},
     "output_type": "execute_result"
    }
   ],
   "source": [
    "#versione con enumerate\n",
    "array2= np.array([3,5,0,4,0,8,0])\n",
    "def trovadivdazero2(array_):\n",
    "    listaindici=[i for (i, j) in enumerate(array_) if j != 0]\n",
    "    return listaindici\n",
    "\n",
    "trovadivdazero2(array2)\n",
    "    "
   ]
  },
  {
   "cell_type": "code",
   "execution_count": 68,
   "metadata": {},
   "outputs": [
    {
     "data": {
      "text/plain": [
       "[(0, 1023), (1, 1671), (2, 1682), (3, 4532), (4, 5202), (5, 5241), (6, 6230)]"
      ]
     },
     "execution_count": 68,
     "metadata": {},
     "output_type": "execute_result"
    }
   ],
   "source": [
    "#Scrivi un programma per ottenere gli indici degli elementi ordinati di un dato array\n",
    "array3= np.array([1023, 5202, 6230, 1671, 1682, 5241, 4532])\n",
    "arrayordinato=list(enumerate(sorted(array3)))\n",
    "arrayordinato"
   ]
  },
  {
   "cell_type": "code",
   "execution_count": 27,
   "metadata": {},
   "outputs": [
    {
     "data": {
      "text/plain": [
       "[0, 3, 4, 6, 1, 5, 2]"
      ]
     },
     "execution_count": 27,
     "metadata": {},
     "output_type": "execute_result"
    }
   ],
   "source": [
    "def indiciordinati(array_):\n",
    "    arrayordinato=sorted(array_)\n",
    "    listaindiciordinati=[]\n",
    "    for i in arrayordinato:\n",
    "         for (j,k) in enumerate(array_):\n",
    "                if k == i:\n",
    "                    listaindiciordinati.append(j)\n",
    "    return listaindiciordinati\n",
    "\n",
    "indiciordinati(array3)\n",
    "            \n",
    "    "
   ]
  },
  {
   "cell_type": "code",
   "execution_count": 63,
   "metadata": {},
   "outputs": [
    {
     "data": {
      "text/plain": [
       "[0, 3, 4, 6, 1, 5, 2]"
      ]
     },
     "execution_count": 63,
     "metadata": {},
     "output_type": "execute_result"
    }
   ],
   "source": [
    "def indiciordinati2(array_): #versione con doppio for nella list comprehension\n",
    "    arrayordinato=sorted(array_)\n",
    "    listaindiciordinati=[j for i in arrayordinato for (j,k) in enumerate(array_) if k == i]\n",
    "    return listaindiciordinati\n",
    "\n",
    "indiciordinati2(array3)"
   ]
  },
  {
   "cell_type": "markdown",
   "metadata": {},
   "source": [
    "Scrivi un programma che calcola la media attraverso la dimensione, in un array 2D \n",
    "array4= np.array([[10, 30],\n",
    "[20, 60]])\n",
    "array4"
   ]
  },
  {
   "cell_type": "code",
   "execution_count": 4,
   "metadata": {
    "scrolled": true
   },
   "outputs": [
    {
     "data": {
      "text/plain": [
       "array([10, 30])"
      ]
     },
     "execution_count": 4,
     "metadata": {},
     "output_type": "execute_result"
    }
   ],
   "source": [
    "array4= np.array([[10, 30], [20, 60]])\n",
    "array4[0,:]"
   ]
  },
  {
   "cell_type": "code",
   "execution_count": 10,
   "metadata": {},
   "outputs": [
    {
     "data": {
      "text/plain": [
       "2"
      ]
     },
     "execution_count": 10,
     "metadata": {},
     "output_type": "execute_result"
    }
   ],
   "source": [
    "array4.shape[0] "
   ]
  },
  {
   "cell_type": "code",
   "execution_count": 62,
   "metadata": {},
   "outputs": [
    {
     "name": "stdout",
     "output_type": "stream",
     "text": [
      "media di ogni colonna: [15, 45]\n",
      "media di ogni riga: [20, 40]\n"
     ]
    }
   ],
   "source": [
    "def funzioneimpossibile(matrice):\n",
    "    mediarighe=[np.mean(matrice[i,:],dtype=int) for i in range(matrice.shape[0])]\n",
    "    mediacolonne=[np.mean(matrice[:,j],dtype=int) for j in range(matrice.shape[1])]\n",
    "    print(f'media di ogni colonna: {mediacolonne}')\n",
    "    print(f'media di ogni riga: {mediarighe}')\n",
    "funzioneimpossibile(array4)"
   ]
  }
 ],
 "metadata": {
  "kernelspec": {
   "display_name": "Python 3 (ipykernel)",
   "language": "python",
   "name": "python3"
  },
  "language_info": {
   "codemirror_mode": {
    "name": "ipython",
    "version": 3
   },
   "file_extension": ".py",
   "mimetype": "text/x-python",
   "name": "python",
   "nbconvert_exporter": "python",
   "pygments_lexer": "ipython3",
   "version": "3.10.9"
  },
  "toc": {
   "base_numbering": 1,
   "nav_menu": {},
   "number_sections": true,
   "sideBar": true,
   "skip_h1_title": false,
   "title_cell": "Table of Contents",
   "title_sidebar": "Contents",
   "toc_cell": true,
   "toc_position": {
    "height": "calc(100% - 180px)",
    "left": "10px",
    "top": "150px",
    "width": "165px"
   },
   "toc_section_display": true,
   "toc_window_display": true
  }
 },
 "nbformat": 4,
 "nbformat_minor": 4
}
