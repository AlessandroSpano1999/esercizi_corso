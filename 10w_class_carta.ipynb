{
 "cells": [
  {
   "cell_type": "code",
   "execution_count": 135,
   "id": "f7748abd",
   "metadata": {},
   "outputs": [],
   "source": [
    "#classe per carta di credito di 4 attributi cliente,banca,conto,limite e bilancio\n",
    "class carta:\n",
    "    def __init__(self,cliente,banca,conto,limite,bilancio):\n",
    "        self.cliente=cliente\n",
    "        self.banca=banca\n",
    "        self.conto=conto\n",
    "        self.limite=limite\n",
    "        self.bilancio=bilancio\n",
    "    def ritorna(self):\n",
    "        return self.cliente,self.banca, self.conto,self.limite,self.bilancio\n",
    "    "
   ]
  },
  {
   "cell_type": "code",
   "execution_count": 136,
   "id": "2606f27c",
   "metadata": {},
   "outputs": [],
   "source": [
    "dati=carta('Alessandro Spano','ING',1000,20000,'+500')"
   ]
  },
  {
   "cell_type": "code",
   "execution_count": 137,
   "id": "4dd0bd34",
   "metadata": {},
   "outputs": [
    {
     "data": {
      "text/plain": [
       "('Alessandro Spano', 'ING', 1000, 20000, '+500')"
      ]
     },
     "execution_count": 137,
     "metadata": {},
     "output_type": "execute_result"
    }
   ],
   "source": [
    "dati.ritorna()"
   ]
  },
  {
   "cell_type": "markdown",
   "id": "9720a7af",
   "metadata": {},
   "source": [
    "https://www.programmareinpython.it/esercizi-python/"
   ]
  },
  {
   "cell_type": "markdown",
   "id": "028042de",
   "metadata": {},
   "source": [
    "https://www.freecodecamp.org/italian/news/25-progetti-in-python-per-principianti-idee-per-iniziare-a-programmare-in-python/"
   ]
  },
  {
   "cell_type": "markdown",
   "id": "c36efbd4",
   "metadata": {},
   "source": [
    "https://www.w3resource.com/python-exercises/oop/index.php"
   ]
  },
  {
   "cell_type": "raw",
   "id": "fe85425b",
   "metadata": {},
   "source": [
    " 1. Write a Python program to create a class representing a Circle. Include methods to calculate its area and perimeter."
   ]
  },
  {
   "cell_type": "code",
   "execution_count": 40,
   "id": "df3a7ac8",
   "metadata": {},
   "outputs": [],
   "source": [
    "import math\n",
    "class Circle:\n",
    "    def __init__(self,raggio):\n",
    "        self.raggio=raggio\n",
    "    def area(self):\n",
    "        Area=math.pi*pow(self.raggio,2)\n",
    "        print(f'L\" Area del cerchio è {Area}')\n",
    "        return Area\n",
    "    def perimetro(self):\n",
    "        Perimetro=2*math.pi*self.raggio\n",
    "        print(f'Il perimetro del cerchio è {Perimetro} ')\n",
    "        return Perimetro"
   ]
  },
  {
   "cell_type": "code",
   "execution_count": 41,
   "id": "bf9fc928",
   "metadata": {},
   "outputs": [],
   "source": [
    "risultato=Circle(4)"
   ]
  },
  {
   "cell_type": "code",
   "execution_count": 42,
   "id": "fb49a66c",
   "metadata": {},
   "outputs": [
    {
     "name": "stdout",
     "output_type": "stream",
     "text": [
      "L\" Area del cerchio è 50.26548245743669\n"
     ]
    },
    {
     "data": {
      "text/plain": [
       "50.26548245743669"
      ]
     },
     "execution_count": 42,
     "metadata": {},
     "output_type": "execute_result"
    }
   ],
   "source": [
    "risultato.area()"
   ]
  },
  {
   "cell_type": "code",
   "execution_count": 49,
   "id": "cebd9cd3",
   "metadata": {},
   "outputs": [
    {
     "name": "stdout",
     "output_type": "stream",
     "text": [
      "Il perimetro del cerchio è 25.132741228718345 \n"
     ]
    },
    {
     "data": {
      "text/plain": [
       "25.132741228718345"
      ]
     },
     "execution_count": 49,
     "metadata": {},
     "output_type": "execute_result"
    }
   ],
   "source": [
    "risultato.perimetro()"
   ]
  },
  {
   "cell_type": "code",
   "execution_count": 38,
   "id": "a98e177b",
   "metadata": {},
   "outputs": [
    {
     "name": "stdout",
     "output_type": "stream",
     "text": [
      "Input the radius of the circle: 4\n",
      "Area of the circle: 50.26548245743669\n",
      "Perimeter of the circle: 25.132741228718345\n"
     ]
    }
   ],
   "source": [
    "import math\n",
    "class Circle:\n",
    "    def __init__(self, radius):\n",
    "        self.radius = radius\n",
    "    \n",
    "    def calculate_circle_area(self):\n",
    "        return math.pi * self.radius**2\n",
    "    \n",
    "    def calculate_circle_perimeter(self):\n",
    "        return 2 * math.pi * self.radius\n",
    "\n",
    "# Example usage\n",
    "circle = Circle(radius=float(input(\"Input the radius of the circle: \")))\n",
    "area = circle.calculate_circle_area()\n",
    "perimeter = circle.calculate_circle_perimeter()\n",
    "print(\"Area of the circle:\", area)\n",
    "print(\"Perimeter of the circle:\", perimeter)"
   ]
  },
  {
   "cell_type": "raw",
   "id": "7df4ead8",
   "metadata": {},
   "source": [
    "2. Write a Python program to create a person class. Include attributes like name, country and date of birth. Implement a method to determine the person's age.\n"
   ]
  },
  {
   "cell_type": "code",
   "execution_count": 94,
   "id": "1e0f5157",
   "metadata": {},
   "outputs": [],
   "source": [
    "import datetime as date\n",
    "import pandas as pd\n",
    "class person:\n",
    "    def __init__(self,name,country,dob):\n",
    "        self.name=name\n",
    "        self.country=country\n",
    "        self.dob=dob\n",
    "    def age_person(self):\n",
    "        today_date = date.datetime.now()\n",
    "        delta=pd.Timedelta(today_date - self.dob)\n",
    "        age=int((delta.days*24*3600+delta.seconds)/31556952)\n",
    "        return(age)\n",
    "dates_person=person('Alessandro Spano','Italy',date.datetime(1999, 7, 30))#year,month,day,hour,minutes"
   ]
  },
  {
   "cell_type": "code",
   "execution_count": 95,
   "id": "912a6159",
   "metadata": {},
   "outputs": [
    {
     "data": {
      "text/plain": [
       "23"
      ]
     },
     "execution_count": 95,
     "metadata": {},
     "output_type": "execute_result"
    }
   ],
   "source": [
    "dates_person.age_person()"
   ]
  },
  {
   "cell_type": "markdown",
   "id": "22bc6567",
   "metadata": {},
   "source": [
    "Scrivi una funzione vendi_libri(), che aiuti nella gestione della vendita di libri in una libreria:\n",
    "\n",
    "Controlla se il libro richiesto è presente sugli scaffali della libreria\n",
    "Qualora il libro sia presente, ne decrementa il numero di copie (eventualmente rimuovendo il titolo) e ci segnala che la vendita ha avuto successo\n",
    "Se il libro non è disponibile, viene messo in un elenco di libri da ordinare e ci viene comunicato che la vendita non ha avuto successo\n",
    "La funzione deve restituire valore booleanoTrue o False in base all'esito della vendita."
   ]
  },
  {
   "cell_type": "code",
   "execution_count": 6,
   "id": "7ac11e66",
   "metadata": {},
   "outputs": [],
   "source": [
    "import random as rnd\n",
    "class vendi_libri:\n",
    "    def __init__(self):\n",
    "        self.libri=['libro '+str(x) for x in range (1,41) ]\n",
    "        self.position=[(x,1),(x,2),(x,3),(x,4)for x in range(1,11)]\n",
    "        self.copie=[rnd.randint(0,1) for x in range(1,41) ]\n",
    "        \n",
    "    def ceck_libro(self):\n",
    "        ordini=[]\n",
    "        libro=input(\"Inserisci il nome del libro: \")\n",
    "        if libro in self.libri:\n",
    "            indice=self.libri.index(libro)\n",
    "            if self.copie[indice]>0:\n",
    "                self.copie[indice]-=1\n",
    "                print(\"Disponibile\")\n",
    "                return True\n",
    "            elif self.copie[indice]<=0:\n",
    "                ordini.append(libro)\n",
    "                print(\"Non disponibile alla vendita\")\n",
    "                print(ordini)\n",
    "                return False\n",
    "        else:\n",
    "            print(\"Il libro non esiste\")\n",
    "            return False\n",
    "        "
   ]
  },
  {
   "cell_type": "code",
   "execution_count": 7,
   "id": "d4e0252a",
   "metadata": {},
   "outputs": [],
   "source": [
    "trovalibro=vendi_libri()"
   ]
  },
  {
   "cell_type": "code",
   "execution_count": 8,
   "id": "1eae8c2b",
   "metadata": {},
   "outputs": [
    {
     "data": {
      "text/plain": [
       "[0,\n",
       " 1,\n",
       " 1,\n",
       " 0,\n",
       " 0,\n",
       " 1,\n",
       " 1,\n",
       " 0,\n",
       " 0,\n",
       " 1,\n",
       " 0,\n",
       " 1,\n",
       " 1,\n",
       " 1,\n",
       " 0,\n",
       " 0,\n",
       " 1,\n",
       " 1,\n",
       " 0,\n",
       " 1,\n",
       " 0,\n",
       " 0,\n",
       " 0,\n",
       " 0,\n",
       " 1,\n",
       " 1,\n",
       " 1,\n",
       " 1,\n",
       " 1,\n",
       " 1,\n",
       " 0,\n",
       " 0,\n",
       " 1,\n",
       " 0,\n",
       " 0,\n",
       " 1,\n",
       " 1,\n",
       " 0,\n",
       " 0,\n",
       " 1]"
      ]
     },
     "execution_count": 8,
     "metadata": {},
     "output_type": "execute_result"
    }
   ],
   "source": [
    "trovalibro.copie"
   ]
  },
  {
   "cell_type": "code",
   "execution_count": 9,
   "id": "e2ec2550",
   "metadata": {},
   "outputs": [
    {
     "ename": "KeyboardInterrupt",
     "evalue": "Interrupted by user",
     "output_type": "error",
     "traceback": [
      "\u001b[1;31m---------------------------------------------------------------------------\u001b[0m",
      "\u001b[1;31mKeyboardInterrupt\u001b[0m                         Traceback (most recent call last)",
      "Cell \u001b[1;32mIn[9], line 1\u001b[0m\n\u001b[1;32m----> 1\u001b[0m \u001b[43mtrovalibro\u001b[49m\u001b[38;5;241;43m.\u001b[39;49m\u001b[43mceck_libro\u001b[49m\u001b[43m(\u001b[49m\u001b[43m)\u001b[49m\n",
      "Cell \u001b[1;32mIn[6], line 10\u001b[0m, in \u001b[0;36mvendi_libri.ceck_libro\u001b[1;34m(self)\u001b[0m\n\u001b[0;32m      8\u001b[0m \u001b[38;5;28;01mdef\u001b[39;00m \u001b[38;5;21mceck_libro\u001b[39m(\u001b[38;5;28mself\u001b[39m):\n\u001b[0;32m      9\u001b[0m     ordini\u001b[38;5;241m=\u001b[39m[]\n\u001b[1;32m---> 10\u001b[0m     libro\u001b[38;5;241m=\u001b[39m\u001b[38;5;28;43minput\u001b[39;49m\u001b[43m(\u001b[49m\u001b[38;5;124;43m\"\u001b[39;49m\u001b[38;5;124;43mInserisci il nome del libro: \u001b[39;49m\u001b[38;5;124;43m\"\u001b[39;49m\u001b[43m)\u001b[49m\n\u001b[0;32m     11\u001b[0m     \u001b[38;5;28;01mif\u001b[39;00m libro \u001b[38;5;129;01min\u001b[39;00m \u001b[38;5;28mself\u001b[39m\u001b[38;5;241m.\u001b[39mlibri:\n\u001b[0;32m     12\u001b[0m         indice\u001b[38;5;241m=\u001b[39m\u001b[38;5;28mself\u001b[39m\u001b[38;5;241m.\u001b[39mlibri\u001b[38;5;241m.\u001b[39mindex(libro)\n",
      "File \u001b[1;32m~\\OneDrive\\Documenti\\ANACONDA\\lib\\site-packages\\ipykernel\\kernelbase.py:1175\u001b[0m, in \u001b[0;36mKernel.raw_input\u001b[1;34m(self, prompt)\u001b[0m\n\u001b[0;32m   1171\u001b[0m \u001b[38;5;28;01mif\u001b[39;00m \u001b[38;5;129;01mnot\u001b[39;00m \u001b[38;5;28mself\u001b[39m\u001b[38;5;241m.\u001b[39m_allow_stdin:\n\u001b[0;32m   1172\u001b[0m     \u001b[38;5;28;01mraise\u001b[39;00m StdinNotImplementedError(\n\u001b[0;32m   1173\u001b[0m         \u001b[38;5;124m\"\u001b[39m\u001b[38;5;124mraw_input was called, but this frontend does not support input requests.\u001b[39m\u001b[38;5;124m\"\u001b[39m\n\u001b[0;32m   1174\u001b[0m     )\n\u001b[1;32m-> 1175\u001b[0m \u001b[38;5;28;01mreturn\u001b[39;00m \u001b[38;5;28;43mself\u001b[39;49m\u001b[38;5;241;43m.\u001b[39;49m\u001b[43m_input_request\u001b[49m\u001b[43m(\u001b[49m\n\u001b[0;32m   1176\u001b[0m \u001b[43m    \u001b[49m\u001b[38;5;28;43mstr\u001b[39;49m\u001b[43m(\u001b[49m\u001b[43mprompt\u001b[49m\u001b[43m)\u001b[49m\u001b[43m,\u001b[49m\n\u001b[0;32m   1177\u001b[0m \u001b[43m    \u001b[49m\u001b[38;5;28;43mself\u001b[39;49m\u001b[38;5;241;43m.\u001b[39;49m\u001b[43m_parent_ident\u001b[49m\u001b[43m[\u001b[49m\u001b[38;5;124;43m\"\u001b[39;49m\u001b[38;5;124;43mshell\u001b[39;49m\u001b[38;5;124;43m\"\u001b[39;49m\u001b[43m]\u001b[49m\u001b[43m,\u001b[49m\n\u001b[0;32m   1178\u001b[0m \u001b[43m    \u001b[49m\u001b[38;5;28;43mself\u001b[39;49m\u001b[38;5;241;43m.\u001b[39;49m\u001b[43mget_parent\u001b[49m\u001b[43m(\u001b[49m\u001b[38;5;124;43m\"\u001b[39;49m\u001b[38;5;124;43mshell\u001b[39;49m\u001b[38;5;124;43m\"\u001b[39;49m\u001b[43m)\u001b[49m\u001b[43m,\u001b[49m\n\u001b[0;32m   1179\u001b[0m \u001b[43m    \u001b[49m\u001b[43mpassword\u001b[49m\u001b[38;5;241;43m=\u001b[39;49m\u001b[38;5;28;43;01mFalse\u001b[39;49;00m\u001b[43m,\u001b[49m\n\u001b[0;32m   1180\u001b[0m \u001b[43m\u001b[49m\u001b[43m)\u001b[49m\n",
      "File \u001b[1;32m~\\OneDrive\\Documenti\\ANACONDA\\lib\\site-packages\\ipykernel\\kernelbase.py:1217\u001b[0m, in \u001b[0;36mKernel._input_request\u001b[1;34m(self, prompt, ident, parent, password)\u001b[0m\n\u001b[0;32m   1214\u001b[0m             \u001b[38;5;28;01mbreak\u001b[39;00m\n\u001b[0;32m   1215\u001b[0m \u001b[38;5;28;01mexcept\u001b[39;00m \u001b[38;5;167;01mKeyboardInterrupt\u001b[39;00m:\n\u001b[0;32m   1216\u001b[0m     \u001b[38;5;66;03m# re-raise KeyboardInterrupt, to truncate traceback\u001b[39;00m\n\u001b[1;32m-> 1217\u001b[0m     \u001b[38;5;28;01mraise\u001b[39;00m \u001b[38;5;167;01mKeyboardInterrupt\u001b[39;00m(\u001b[38;5;124m\"\u001b[39m\u001b[38;5;124mInterrupted by user\u001b[39m\u001b[38;5;124m\"\u001b[39m) \u001b[38;5;28;01mfrom\u001b[39;00m \u001b[38;5;28mNone\u001b[39m\n\u001b[0;32m   1218\u001b[0m \u001b[38;5;28;01mexcept\u001b[39;00m \u001b[38;5;167;01mException\u001b[39;00m:\n\u001b[0;32m   1219\u001b[0m     \u001b[38;5;28mself\u001b[39m\u001b[38;5;241m.\u001b[39mlog\u001b[38;5;241m.\u001b[39mwarning(\u001b[38;5;124m\"\u001b[39m\u001b[38;5;124mInvalid Message:\u001b[39m\u001b[38;5;124m\"\u001b[39m, exc_info\u001b[38;5;241m=\u001b[39m\u001b[38;5;28;01mTrue\u001b[39;00m)\n",
      "\u001b[1;31mKeyboardInterrupt\u001b[0m: Interrupted by user"
     ]
    }
   ],
   "source": [
    "trovalibro.ceck_libro()"
   ]
  },
  {
   "cell_type": "code",
   "execution_count": 10,
   "id": "d5f75864",
   "metadata": {},
   "outputs": [
    {
     "data": {
      "text/plain": [
       "[(1, 1, 1, 2, 1, 3, 1, 4),\n",
       " (2, 1, 2, 2, 2, 3, 2, 4),\n",
       " (3, 1, 3, 2, 3, 3, 3, 4),\n",
       " (4, 1, 4, 2, 4, 3, 4, 4),\n",
       " (5, 1, 5, 2, 5, 3, 5, 4),\n",
       " (6, 1, 6, 2, 6, 3, 6, 4),\n",
       " (7, 1, 7, 2, 7, 3, 7, 4),\n",
       " (8, 1, 8, 2, 8, 3, 8, 4),\n",
       " (9, 1, 9, 2, 9, 3, 9, 4),\n",
       " (10, 1, 10, 2, 10, 3, 10, 4)]"
      ]
     },
     "execution_count": 10,
     "metadata": {},
     "output_type": "execute_result"
    }
   ],
   "source": [
    "trovalibro.position"
   ]
  },
  {
   "cell_type": "markdown",
   "id": "0d319362",
   "metadata": {},
   "source": [
    "\n",
    "Scrivi una funzione a cui passerai come parametro una stringa, e che manderà in print una versione inversa (al contrario) della stessa stringa. Ad esempio \"abcd\" diventerà \"dcba\".\n",
    "\n",
    "Suggerimento: per risolvere questo esercizio in modo compatto potresti usare lo slicing."
   ]
  },
  {
   "cell_type": "code",
   "execution_count": 14,
   "id": "36773bd5",
   "metadata": {},
   "outputs": [],
   "source": [
    "def reverse(parametro):\n",
    "    reverse=''\n",
    "    lista=[parametro]\n",
    "    x=len(lista[0])-1\n",
    "    for i in range(len(lista[0])):\n",
    "        reverse+=lista[0][x]\n",
    "        x-=1\n",
    "    print(reverse)\n",
    "    "
   ]
  },
  {
   "cell_type": "code",
   "execution_count": 15,
   "id": "81f85cb3",
   "metadata": {},
   "outputs": [
    {
     "name": "stdout",
     "output_type": "stream",
     "text": [
      "xela\n"
     ]
    }
   ],
   "source": [
    "reverse('alex')"
   ]
  },
  {
   "cell_type": "markdown",
   "id": "1e8769d0",
   "metadata": {},
   "source": [
    "https://www.programmareinpython.it/esercizi-python/"
   ]
  },
  {
   "cell_type": "code",
   "execution_count": null,
   "id": "f4a72fcb",
   "metadata": {},
   "outputs": [],
   "source": [
    "#Metodo join()\n",
    "o_do = [\"portare il cane a passeggio\", \"finire di studiare\", \"fare la spesa\", \"lavare i panni\"]\n",
    "\n",
    "\", \".join(to_do)\n",
    "'portare il cane a passeggio, finire di studiare, fare la spesa, lavare i panni'\n",
    "\n",
    " da_fare = \"oggi devo: \" + \", \".join(to_do)\n",
    "\n",
    "da_fare\n",
    "'oggi devo: portare il cane a passeggio, finire di studiare, fare la spesa, lavare i panni'"
   ]
  },
  {
   "cell_type": "markdown",
   "id": "71400c4e",
   "metadata": {},
   "source": [
    "Scrivi una semplice funzione rimario, a cui viene passato un elenco di parole come parametro e che riceva una parola inserita dall'utente tramite la funzione input.\n",
    "\n",
    "La funzione rimario dovrà confrontare la parola inserita dall'utente con quelle presenti nell'elenco passato, alla ricerca di rime, intese come parole le cui ultime 3 lettere siano uguali alla parola inserita dall'utente.\n",
    "\n",
    "Le rime dovranno essere quindi mostrate in output utilizzando il metodo join."
   ]
  },
  {
   "cell_type": "code",
   "execution_count": null,
   "id": "b5b2bb02",
   "metadata": {},
   "outputs": [],
   "source": []
  }
 ],
 "metadata": {
  "kernelspec": {
   "display_name": "Python 3 (ipykernel)",
   "language": "python",
   "name": "python3"
  },
  "language_info": {
   "codemirror_mode": {
    "name": "ipython",
    "version": 3
   },
   "file_extension": ".py",
   "mimetype": "text/x-python",
   "name": "python",
   "nbconvert_exporter": "python",
   "pygments_lexer": "ipython3",
   "version": "3.10.9"
  }
 },
 "nbformat": 4,
 "nbformat_minor": 5
}
