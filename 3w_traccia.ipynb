{
 "cells": [
  {
   "cell_type": "markdown",
   "metadata": {
    "toc": true
   },
   "source": [
    "<h1>Table of Contents<span class=\"tocSkip\"></span></h1>\n",
    "<div class=\"toc\"><ul class=\"toc-item\"><li><span><a href=\"#Workshop-3\" data-toc-modified-id=\"Workshop-2-1\"><span class=\"toc-item-num\">1&nbsp;&nbsp;</span>Workshop 3</a></span></li></ul></div>"
   ]
  },
  {
   "cell_type": "markdown",
   "metadata": {},
   "source": [
    "## Workshop 3 - Traccia"
   ]
  },
  {
   "cell_type": "markdown",
   "metadata": {},
   "source": [
    "Implementa i seguenti esercizi in Python:\n",
    "\n",
    "-----\n",
    "\n",
    "1) Crea una lista con lunghezza pari a 50 elementi e inserisci numeri interi a tuo piacimento, poi rimuovi da essa i numeri multipli di 5\n",
    "\n",
    "2) Svolgi l'esercizio precedente utilizzando una comprensione di liste\n",
    "\n",
    "3) Crea una funzione che restituisca True se la lista di numeri interi che prende come parametro è una lista di quadrati perfetti (es 4, 9, 16 ecc..), False altrimenti\n",
    "\n",
    "4) Svolgi l'esercizio precedente utilizzando una comprensione di liste"
   ]
  },
  {
   "cell_type": "markdown",
   "metadata": {},
   "source": [
    "1) Crea una lista con lunghezza pari a 50 elementi e inserisci numeri interi a tuo piacimento, poi rimuovi da essa i numeri multipli di 5"
   ]
  },
  {
   "cell_type": "code",
   "execution_count": 98,
   "metadata": {},
   "outputs": [
    {
     "name": "stdout",
     "output_type": "stream",
     "text": [
      "[15, 12, 28, 9, 8, 29, 29, 39, 20, 40, 19, 6, 6, 7, 0, 41, 11, 39, 30, 33, 27, 2, 2, 21, 24, 35, 41, 6, 1, 36, 20, 8, 24, 16, 46, 16, 7, 30, 8, 3, 47, 8, 35, 4, 8, 8, 15, 32, 30, 12]\n"
     ]
    }
   ],
   "source": [
    "import random as rnd\n",
    "lista=[]\n",
    "for i in range(50):\n",
    "    i=rnd.randint(0,50)\n",
    "    lista.append(i)\n",
    "print(lista)"
   ]
  },
  {
   "cell_type": "code",
   "execution_count": 99,
   "metadata": {},
   "outputs": [
    {
     "name": "stdout",
     "output_type": "stream",
     "text": [
      "[12, 28, 9, 8, 29, 29, 39, 19, 6, 6, 7, 41, 11, 39, 33, 27, 2, 2, 21, 24, 41, 6, 1, 36, 8, 24, 16, 46, 16, 7, 8, 3, 47, 8, 4, 8, 8, 32, 12]\n"
     ]
    }
   ],
   "source": [
    "copialista=[]\n",
    "for i in lista:\n",
    "    if i%5!=0:\n",
    "        copialista.append(i)\n",
    "print(copialista)"
   ]
  },
  {
   "cell_type": "markdown",
   "metadata": {},
   "source": [
    "2) Svolgi l'esercizio precedente utilizzando una comprensione di liste"
   ]
  },
  {
   "cell_type": "code",
   "execution_count": 56,
   "metadata": {},
   "outputs": [
    {
     "name": "stdout",
     "output_type": "stream",
     "text": [
      "[28, 13, 5, 27, 33, 11, 9, 37, 32, 29, 50, 18, 9, 21, 7, 44, 33, 12, 15, 8, 19, 29, 23, 8, 45, 18, 46, 35, 17, 34, 40, 17, 38, 6, 6, 28, 34, 2, 38, 20, 47, 41, 13, 6, 14, 5, 29, 29, 1, 23]\n"
     ]
    }
   ],
   "source": [
    "lista1=[rnd.randint(0,50) for z in range(50)]\n",
    "print(lista1)\n",
    "    "
   ]
  },
  {
   "cell_type": "code",
   "execution_count": 62,
   "metadata": {},
   "outputs": [
    {
     "name": "stdout",
     "output_type": "stream",
     "text": [
      "[1, 2, 3, 4, 6, 7, 8, 9, 11, 12, 13, 14, 16, 17, 18, 19, 21, 22, 23, 24, 26, 27, 28, 29, 31, 32, 33, 34, 36, 37, 38, 39, 41, 42, 43, 44, 46, 47, 48, 49]\n"
     ]
    }
   ],
   "source": [
    "lista2=[z for z in range(50) if z%5!=0]\n",
    "print(lista2)"
   ]
  },
  {
   "cell_type": "markdown",
   "metadata": {},
   "source": [
    "3) Crea una funzione che restituisca True se la lista di numeri interi che prende come parametro è una lista di quadrati perfetti (es 4, 9, 16 ecc..), False altrimenti"
   ]
  },
  {
   "cell_type": "code",
   "execution_count": 9,
   "metadata": {},
   "outputs": [],
   "source": [
    "def quadrato(numeri):\n",
    "    somma=0\n",
    "    for a in numeri :\n",
    "        radice=a**0.5\n",
    "        if radice.is_integer():\n",
    "            somma+=1\n",
    "    if somma==len(numeri):\n",
    "        print(True)\n",
    "    else:\n",
    "        print(False)\n",
    "\n",
    "\n",
    "\n",
    "\n"
   ]
  },
  {
   "cell_type": "code",
   "execution_count": 10,
   "metadata": {},
   "outputs": [
    {
     "name": "stdout",
     "output_type": "stream",
     "text": [
      "True\n"
     ]
    }
   ],
   "source": [
    "numeriprova1=[4,16,25,144]\n",
    "quadrato(numeriprova1)"
   ]
  },
  {
   "cell_type": "code",
   "execution_count": 11,
   "metadata": {},
   "outputs": [
    {
     "name": "stdout",
     "output_type": "stream",
     "text": [
      "False\n"
     ]
    }
   ],
   "source": [
    "numeriprova2=[1,43,12,25]\n",
    "quadrato(numeriprova2)"
   ]
  },
  {
   "cell_type": "markdown",
   "metadata": {},
   "source": [
    "4) Svolgi l'esercizio precedente utilizzando una comprensione di liste"
   ]
  },
  {
   "cell_type": "code",
   "execution_count": 41,
   "metadata": {},
   "outputs": [
    {
     "name": "stdout",
     "output_type": "stream",
     "text": [
      "True\n"
     ]
    }
   ],
   "source": [
    "def quadrato1(numeri):\n",
    "    somma=0\n",
    "    numeri1 = [ pow(n,0.5)  for n in numeri ]\n",
    "    for f in numeri1:\n",
    "         if f.is_integer():\n",
    "            somma+=1\n",
    "    if somma==len(numeri):\n",
    "        print(True)\n",
    "    else:\n",
    "        print(False)\n",
    "    \n",
    "numeri=[4,16,25]\n",
    "quadrato1(numeri)"
   ]
  },
  {
   "cell_type": "code",
   "execution_count": null,
   "metadata": {},
   "outputs": [],
   "source": []
  }
 ],
 "metadata": {
  "kernelspec": {
   "display_name": "Python 3 (ipykernel)",
   "language": "python",
   "name": "python3"
  },
  "language_info": {
   "codemirror_mode": {
    "name": "ipython",
    "version": 3
   },
   "file_extension": ".py",
   "mimetype": "text/x-python",
   "name": "python",
   "nbconvert_exporter": "python",
   "pygments_lexer": "ipython3",
   "version": "3.10.9"
  },
  "toc": {
   "base_numbering": 1,
   "nav_menu": {},
   "number_sections": true,
   "sideBar": true,
   "skip_h1_title": false,
   "title_cell": "Table of Contents",
   "title_sidebar": "Contents",
   "toc_cell": true,
   "toc_position": {
    "height": "calc(100% - 180px)",
    "left": "10px",
    "top": "150px",
    "width": "165px"
   },
   "toc_section_display": true,
   "toc_window_display": true
  }
 },
 "nbformat": 4,
 "nbformat_minor": 4
}
